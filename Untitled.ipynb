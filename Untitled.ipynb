{
 "cells": [
  {
   "cell_type": "code",
   "execution_count": 3,
   "metadata": {},
   "outputs": [
    {
     "name": "stdout",
     "output_type": "stream",
     "text": [
      "['36', '11', '28', '30', '2', '7', '43']\n"
     ]
    }
   ],
   "source": [
    "import numpy as np\n",
    "\n",
    "import os\n",
    "print(os.listdir(\"gestures\"))"
   ]
  },
  {
   "cell_type": "code",
   "execution_count": 9,
   "metadata": {},
   "outputs": [
    {
     "name": "stdout",
     "output_type": "stream",
     "text": [
      "_________________________________________________________________\n",
      "Layer (type)                 Output Shape              Param #   \n",
      "=================================================================\n",
      "conv2d_15 (Conv2D)           (None, 48, 48, 16)        160       \n",
      "_________________________________________________________________\n",
      "batch_normalization_15 (Batc (None, 48, 48, 16)        64        \n",
      "_________________________________________________________________\n",
      "activation_15 (Activation)   (None, 48, 48, 16)        0         \n",
      "_________________________________________________________________\n",
      "conv2d_16 (Conv2D)           (None, 46, 46, 32)        4640      \n",
      "_________________________________________________________________\n",
      "batch_normalization_16 (Batc (None, 46, 46, 32)        128       \n",
      "_________________________________________________________________\n",
      "activation_16 (Activation)   (None, 46, 46, 32)        0         \n",
      "_________________________________________________________________\n",
      "conv2d_17 (Conv2D)           (None, 44, 44, 64)        18496     \n",
      "_________________________________________________________________\n",
      "batch_normalization_17 (Batc (None, 44, 44, 64)        256       \n",
      "_________________________________________________________________\n",
      "activation_17 (Activation)   (None, 44, 44, 64)        0         \n",
      "_________________________________________________________________\n",
      "max_pooling2d_4 (MaxPooling2 (None, 22, 22, 64)        0         \n",
      "_________________________________________________________________\n",
      "flatten_4 (Flatten)          (None, 30976)             0         \n",
      "_________________________________________________________________\n",
      "dense_7 (Dense)              (None, 128)               3965056   \n",
      "_________________________________________________________________\n",
      "dropout_4 (Dropout)          (None, 128)               0         \n",
      "_________________________________________________________________\n",
      "dense_8 (Dense)              (None, 7)                 903       \n",
      "=================================================================\n",
      "Total params: 3,989,703\n",
      "Trainable params: 3,989,479\n",
      "Non-trainable params: 224\n",
      "_________________________________________________________________\n"
     ]
    }
   ],
   "source": [
    "num_of_classes = 7\n",
    "image_x =50\n",
    "image_y = 50\n",
    "from keras.models import Model,Sequential\n",
    "from keras.layers import *\n",
    "from keras.optimizers import Adam\n",
    "def cnn_network():\n",
    "    x = Sequential()\n",
    "    \n",
    "    x.add(Conv2D(16,(3,3),input_shape=(image_x,image_y,1)))\n",
    "    x.add(BatchNormalization())\n",
    "    x.add(Activation('relu'))\n",
    "    x.add(Conv2D(32,(3,3)))\n",
    "    x.add(BatchNormalization())\n",
    "    x.add(Activation('relu'))\n",
    "    x.add(Conv2D(64,(3,3)))\n",
    "    x.add(BatchNormalization())\n",
    "    x.add(Activation('relu'))\n",
    "    x.add(MaxPooling2D(pool_size=(2,2),strides=(2,2)))\n",
    "    #x.add(Conv2D(128,(3,3)))\n",
    "    #x.add(BatchNormalization())\n",
    "    #x.add(Activation('relu'))\n",
    "    x.add(Flatten())\n",
    "    x.add(Dense(128,activation='relu'))\n",
    "    x.add(Dropout(0.2))\n",
    "    x.add(Dense(num_of_classes,activation='softmax'))\n",
    "    x.compile(loss='categorical_crossentropy',optimizer=Adam(lr=1e-3),metrics=['accuracy'])\n",
    "    return x\n",
    "    \n",
    "cnn = cnn_network()\n",
    "cnn.summary()"
   ]
  },
  {
   "cell_type": "code",
   "execution_count": null,
   "metadata": {},
   "outputs": [],
   "source": [
    "from keras.preprocessing import image\n",
    "def imageLoader(files,batch_size):\n",
    "    L = len(files)\n",
    "    while True:\n",
    "        batch_start = 0\n",
    "        batch_end = batch_size = 4\n",
    "        while batch_start <  L:\n",
    "            limit=min(batch_end,L)\n",
    "            "
   ]
  }
 ],
 "metadata": {
  "kernelspec": {
   "display_name": "Python 3",
   "language": "python",
   "name": "python3"
  },
  "language_info": {
   "codemirror_mode": {
    "name": "ipython",
    "version": 3
   },
   "file_extension": ".py",
   "mimetype": "text/x-python",
   "name": "python",
   "nbconvert_exporter": "python",
   "pygments_lexer": "ipython3",
   "version": "3.6.7"
  }
 },
 "nbformat": 4,
 "nbformat_minor": 2
}
